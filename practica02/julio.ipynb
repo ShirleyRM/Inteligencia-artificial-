{
  "nbformat": 4,
  "nbformat_minor": 0,
  "metadata": {
    "colab": {
      "provenance": [],
      "authorship_tag": "ABX9TyOUSRh6CmKeXaZj7VEMtzlL",
      "include_colab_link": true
    },
    "kernelspec": {
      "name": "python3",
      "display_name": "Python 3"
    },
    "language_info": {
      "name": "python"
    }
  },
  "cells": [
    {
      "cell_type": "markdown",
      "metadata": {
        "id": "view-in-github",
        "colab_type": "text"
      },
      "source": [
        "<a href=\"https://colab.research.google.com/github/ShirleyRM/Inteligencia-artificial-/blob/main/practica02/julio.ipynb\" target=\"_parent\"><img src=\"https://colab.research.google.com/assets/colab-badge.svg\" alt=\"Open In Colab\"/></a>"
      ]
    },
    {
      "cell_type": "code",
      "execution_count": null,
      "metadata": {
        "colab": {
          "base_uri": "https://localhost:8080/"
        },
        "id": "kC_mCbj66mbI",
        "outputId": "ba103bc7-83b0-4018-937e-1b2379007980"
      },
      "outputs": [
        {
          "output_type": "stream",
          "name": "stdout",
          "text": [
            "<class 'numpy.ndarray'>\n",
            "[11 22 33]\n",
            "22\n",
            "[11 22]\n",
            "[22 33]\n",
            "[ 11 888  33]\n"
          ]
        }
      ],
      "source": [
        "import numpy as algebralineal\n",
        "\n",
        "a=algebralineal.array([11,22,33])\n",
        "print(type(a))\n",
        "print(a)\n",
        "\n",
        "print(a[1])\n",
        "print(a[:2])\n",
        "print(a[1:3])\n",
        "a[1]=888\n",
        "print(a)"
      ]
    },
    {
      "cell_type": "code",
      "source": [
        "import numpy as np\n",
        "b=np.array([[1,2,3],[11,22,33],[111,222,333]])\n",
        "print(b.shape)\n",
        "print(type(b))\n",
        "print(b)\n",
        "print(b[1,1])\n",
        "aux=b [1:,1:] . copy()\n",
        "print(aux.shape)\n",
        "print(aux)\n",
        "\n",
        "print('BEFORE/......')\n",
        "print(b)\n",
        "print(aux)\n",
        "\n",
        "aux[1,1]=1000\n",
        "\n",
        "print('AFTER/......')\n",
        "print(b)\n",
        "print(aux)\n",
        "\n",
        "\n",
        "\n"
      ],
      "metadata": {
        "colab": {
          "base_uri": "https://localhost:8080/"
        },
        "id": "KNB4I9_KATOn",
        "outputId": "ad90c46a-3ec8-4859-9e7b-eb2dcbf459c0"
      },
      "execution_count": null,
      "outputs": [
        {
          "output_type": "stream",
          "name": "stdout",
          "text": [
            "(3, 3)\n",
            "<class 'numpy.ndarray'>\n",
            "[[  1   2   3]\n",
            " [ 11  22  33]\n",
            " [111 222 333]]\n",
            "22\n",
            "(2, 2)\n",
            "[[ 22  33]\n",
            " [222 333]]\n",
            "BEFORE/......\n",
            "[[  1   2   3]\n",
            " [ 11  22  33]\n",
            " [111 222 333]]\n",
            "[[ 22  33]\n",
            " [222 333]]\n",
            "AFTER/......\n",
            "[[  1   2   3]\n",
            " [ 11  22  33]\n",
            " [111 222 333]]\n",
            "[[  22   33]\n",
            " [ 222 1000]]\n"
          ]
        }
      ]
    },
    {
      "cell_type": "code",
      "source": [
        "c=np.zeros((4,4))\n",
        "print(c)\n",
        "print(c.shape)\n",
        "d=np.full((4,4),9)\n",
        "print(d)"
      ],
      "metadata": {
        "colab": {
          "base_uri": "https://localhost:8080/"
        },
        "id": "wBbpjZ1-ERYJ",
        "outputId": "393e612d-51aa-465c-cb26-3038b5a09c33"
      },
      "execution_count": null,
      "outputs": [
        {
          "output_type": "stream",
          "name": "stdout",
          "text": [
            "[[0. 0. 0. 0.]\n",
            " [0. 0. 0. 0.]\n",
            " [0. 0. 0. 0.]\n",
            " [0. 0. 0. 0.]]\n",
            "(4, 4)\n",
            "[[9 9 9 9]\n",
            " [9 9 9 9]\n",
            " [9 9 9 9]\n",
            " [9 9 9 9]]\n"
          ]
        }
      ]
    },
    {
      "cell_type": "code",
      "source": [
        "e=np.eye(3,3)\n",
        "print(e)\n",
        "f=np.ones((4,5))\n",
        "print(f)"
      ],
      "metadata": {
        "colab": {
          "base_uri": "https://localhost:8080/"
        },
        "id": "5-8p2vQ5EqXo",
        "outputId": "6422dc9d-7d8f-4be8-946b-81b78d00585a"
      },
      "execution_count": null,
      "outputs": [
        {
          "output_type": "stream",
          "name": "stdout",
          "text": [
            "[[1. 0. 0.]\n",
            " [0. 1. 0.]\n",
            " [0. 0. 1.]]\n",
            "[[1. 1. 1. 1. 1.]\n",
            " [1. 1. 1. 1. 1.]\n",
            " [1. 1. 1. 1. 1.]\n",
            " [1. 1. 1. 1. 1.]]\n"
          ]
        }
      ]
    },
    {
      "cell_type": "code",
      "source": [
        "g=np.random.random((5,5))\n",
        "print(g)"
      ],
      "metadata": {
        "colab": {
          "base_uri": "https://localhost:8080/"
        },
        "id": "OyPZbDwtFJYG",
        "outputId": "104139c7-d7fd-4734-9be7-223997269ba6"
      },
      "execution_count": null,
      "outputs": [
        {
          "output_type": "stream",
          "name": "stdout",
          "text": [
            "[[0.69000339 0.647933   0.99008059 0.35329919 0.39716932]\n",
            " [0.42827527 0.71624959 0.85114708 0.55749973 0.82301468]\n",
            " [0.72407385 0.963605   0.56188766 0.19851795 0.86034462]\n",
            " [0.68063867 0.66078192 0.25918047 0.06586532 0.61105205]\n",
            " [0.45111177 0.95034457 0.23931979 0.39353233 0.03039282]]\n"
          ]
        }
      ]
    },
    {
      "cell_type": "code",
      "source": [
        "tmpl=np.random.randint(1,20,(4,4))\n",
        "print(tmpl)\n",
        "\n",
        "rows=np.array([0,1,2,0])\n",
        "cols=np.arange(4)\n",
        "print(rows)\n",
        "print(cols)\n",
        "print(rows.shape)\n",
        "print(cols.shape)\n",
        "\n",
        "\n",
        "\n",
        "\n"
      ],
      "metadata": {
        "colab": {
          "base_uri": "https://localhost:8080/"
        },
        "id": "KVAgGpIlE2o6",
        "outputId": "a09f89f3-0547-4bd1-f84a-ebce07f16a78"
      },
      "execution_count": null,
      "outputs": [
        {
          "output_type": "stream",
          "name": "stdout",
          "text": [
            "[[11 16  5 10]\n",
            " [13  4 16  3]\n",
            " [15 10  9 15]\n",
            " [ 7  3  7  7]]\n",
            "[0 1 2 0]\n",
            "[0 1 2 3]\n",
            "(4,)\n",
            "(4,)\n"
          ]
        }
      ]
    },
    {
      "cell_type": "code",
      "source": [
        "tmpl[rows,cols]=100\n",
        "print(tmpl)"
      ],
      "metadata": {
        "colab": {
          "base_uri": "https://localhost:8080/"
        },
        "id": "MmznDoilGKOo",
        "outputId": "8e4821aa-3b85-4cd0-99fb-24999a8fef1c"
      },
      "execution_count": null,
      "outputs": [
        {
          "output_type": "stream",
          "name": "stdout",
          "text": [
            "[[100  16   5 100]\n",
            " [ 13 100  16   3]\n",
            " [ 15  10 100  15]\n",
            " [  7   3   7   7]]\n"
          ]
        }
      ]
    },
    {
      "cell_type": "code",
      "source": [
        "tmpl=np.random.randint(20,50,(6,6))\n",
        "print(tmpl)\n",
        "\n",
        "filter=(tmpl>45)\n",
        "print(filter)\n",
        "print(tmpl[filter])\n"
      ],
      "metadata": {
        "colab": {
          "base_uri": "https://localhost:8080/"
        },
        "id": "HLxiYPRvKGMd",
        "outputId": "f4bcad15-cd33-417a-d022-24972c876832"
      },
      "execution_count": null,
      "outputs": [
        {
          "output_type": "stream",
          "name": "stdout",
          "text": [
            "[[35 24 34 37 37 32]\n",
            " [32 29 49 34 40 46]\n",
            " [34 43 24 47 30 37]\n",
            " [33 42 28 20 20 22]\n",
            " [28 49 33 49 45 49]\n",
            " [44 43 41 27 27 38]]\n",
            "[[False False False False False False]\n",
            " [False False  True False False  True]\n",
            " [False False False  True False False]\n",
            " [False False False False False False]\n",
            " [False  True False  True False  True]\n",
            " [False False False False False False]]\n",
            "[49 46 47 49 49 49]\n"
          ]
        }
      ]
    },
    {
      "cell_type": "code",
      "source": [
        "tmpl=np.random.randint(1,100,(10,10))\n",
        "print(tmpl)\n",
        "\n",
        "pares=tmpl[tmpl % 2== 0]\n",
        "print(pares)\n"
      ],
      "metadata": {
        "colab": {
          "base_uri": "https://localhost:8080/"
        },
        "id": "ogpaB2ItMYVC",
        "outputId": "039ab792-d495-4968-cd43-bf5025663de8"
      },
      "execution_count": null,
      "outputs": [
        {
          "output_type": "stream",
          "name": "stdout",
          "text": [
            "[[13 60 55 72  1 43 13 86  7 66]\n",
            " [12 17 99 71 58 24 90 71 43 81]\n",
            " [31 42 14 35 43 40 91 37  6 74]\n",
            " [16 86 26 18 88 85 41 42 62  8]\n",
            " [19 49 74 85 97 89 20 26 60 61]\n",
            " [54 77  3 46 67 54 38 17 18 18]\n",
            " [70 11 26 40 21 65 85 45  1 91]\n",
            " [ 1 91 27 77 65 68 82 81  3 69]\n",
            " [90 71 97 64 65 30 15 84  6 21]\n",
            " [60 95 45 31 38  5 88 77 76 52]]\n",
            "[60 72 86 66 12 58 24 90 42 14 40  6 74 16 86 26 18 88 42 62  8 74 20 26\n",
            " 60 54 46 54 38 18 18 70 26 40 68 82 90 64 30 84  6 60 38 88 76 52]\n"
          ]
        }
      ]
    },
    {
      "cell_type": "code",
      "source": [
        "tmp3=np.array([1,2,3,4,5],dtype=np.float64)\n",
        "print(tmp3.dtype)"
      ],
      "metadata": {
        "colab": {
          "base_uri": "https://localhost:8080/"
        },
        "id": "gsAKdqPPOU_J",
        "outputId": "f7f36db3-a58e-4d45-df21-b53db79749ee"
      },
      "execution_count": null,
      "outputs": [
        {
          "output_type": "stream",
          "name": "stdout",
          "text": [
            "float64\n"
          ]
        }
      ]
    },
    {
      "cell_type": "code",
      "source": [
        "#import numpy as np\n",
        "x=np.array([[1,2],[11,22]])\n",
        "y=np.array([[22,33],[44,55]])\n",
        "print(x)\n",
        "print(y)\n",
        "print(np.add[x,y])\n",
        "print(np.subtract[x,y])\n",
        "print(np.multiply[x,y])\n",
        "print(np.divide[x,y])\n",
        "print(np.sqrt(x))"
      ],
      "metadata": {
        "colab": {
          "base_uri": "https://localhost:8080/",
          "height": 280
        },
        "id": "4RM2vTFPPJ9E",
        "outputId": "bbbf8832-32aa-45de-e517-ae89c570200a"
      },
      "execution_count": 35,
      "outputs": [
        {
          "output_type": "stream",
          "name": "stdout",
          "text": [
            "[[ 1  2]\n",
            " [11 22]]\n",
            "[[22 33]\n",
            " [44 55]]\n"
          ]
        },
        {
          "output_type": "error",
          "ename": "TypeError",
          "evalue": "'numpy.ufunc' object is not subscriptable",
          "traceback": [
            "\u001b[0;31m---------------------------------------------------------------------------\u001b[0m",
            "\u001b[0;31mTypeError\u001b[0m                                 Traceback (most recent call last)",
            "\u001b[0;32m<ipython-input-35-9f825219cc00>\u001b[0m in \u001b[0;36m<cell line: 6>\u001b[0;34m()\u001b[0m\n\u001b[1;32m      4\u001b[0m \u001b[0mprint\u001b[0m\u001b[0;34m(\u001b[0m\u001b[0mx\u001b[0m\u001b[0;34m)\u001b[0m\u001b[0;34m\u001b[0m\u001b[0;34m\u001b[0m\u001b[0m\n\u001b[1;32m      5\u001b[0m \u001b[0mprint\u001b[0m\u001b[0;34m(\u001b[0m\u001b[0my\u001b[0m\u001b[0;34m)\u001b[0m\u001b[0;34m\u001b[0m\u001b[0;34m\u001b[0m\u001b[0m\n\u001b[0;32m----> 6\u001b[0;31m \u001b[0mprint\u001b[0m\u001b[0;34m(\u001b[0m\u001b[0mnp\u001b[0m\u001b[0;34m.\u001b[0m\u001b[0madd\u001b[0m\u001b[0;34m[\u001b[0m\u001b[0mx\u001b[0m\u001b[0;34m,\u001b[0m\u001b[0my\u001b[0m\u001b[0;34m]\u001b[0m\u001b[0;34m)\u001b[0m\u001b[0;34m\u001b[0m\u001b[0;34m\u001b[0m\u001b[0m\n\u001b[0m\u001b[1;32m      7\u001b[0m \u001b[0mprint\u001b[0m\u001b[0;34m(\u001b[0m\u001b[0mnp\u001b[0m\u001b[0;34m.\u001b[0m\u001b[0msubtract\u001b[0m\u001b[0;34m[\u001b[0m\u001b[0mx\u001b[0m\u001b[0;34m,\u001b[0m\u001b[0my\u001b[0m\u001b[0;34m]\u001b[0m\u001b[0;34m)\u001b[0m\u001b[0;34m\u001b[0m\u001b[0;34m\u001b[0m\u001b[0m\n\u001b[1;32m      8\u001b[0m \u001b[0mprint\u001b[0m\u001b[0;34m(\u001b[0m\u001b[0mnp\u001b[0m\u001b[0;34m.\u001b[0m\u001b[0mmultiply\u001b[0m\u001b[0;34m[\u001b[0m\u001b[0mx\u001b[0m\u001b[0;34m,\u001b[0m\u001b[0my\u001b[0m\u001b[0;34m]\u001b[0m\u001b[0;34m)\u001b[0m\u001b[0;34m\u001b[0m\u001b[0;34m\u001b[0m\u001b[0m\n",
            "\u001b[0;31mTypeError\u001b[0m: 'numpy.ufunc' object is not subscriptable"
          ]
        }
      ]
    },
    {
      "cell_type": "code",
      "source": [],
      "metadata": {
        "id": "jaK0tZxaoszx"
      },
      "execution_count": null,
      "outputs": []
    },
    {
      "cell_type": "code",
      "source": [
        "tmpl=np.random.randint(1,10,(2,5))\n",
        "print(tmpl)\n",
        "aux=tmpl.mean()\n",
        "print(aux)"
      ],
      "metadata": {
        "colab": {
          "base_uri": "https://localhost:8080/"
        },
        "id": "AOjGgalTQll0",
        "outputId": "c1128e96-aca0-4bc1-e4a6-978307f1cb7a"
      },
      "execution_count": null,
      "outputs": [
        {
          "output_type": "stream",
          "name": "stdout",
          "text": [
            "[[5 9 5 9 2]\n",
            " [1 7 5 7 6]]\n",
            "5.6\n"
          ]
        }
      ]
    },
    {
      "cell_type": "code",
      "source": [
        "print(tmpl.mean(axis=1))\n",
        "print(tmpl.mean(axis=0))"
      ],
      "metadata": {
        "colab": {
          "base_uri": "https://localhost:8080/"
        },
        "id": "G3jwaIrFRVUL",
        "outputId": "a9c10a56-2c44-4136-9de4-983d84465dc3"
      },
      "execution_count": null,
      "outputs": [
        {
          "output_type": "stream",
          "name": "stdout",
          "text": [
            "[6.  5.2]\n",
            "[3. 8. 5. 8. 4.]\n"
          ]
        }
      ]
    },
    {
      "cell_type": "code",
      "source": [
        "import numpy as np\n",
        "a=np.random.randint(1,10,[3,4])\n",
        "print(a)\n",
        "tmp=np.mean(a)\n",
        "print(tmp)\n",
        "print(a.mean())\n",
        "tmp=a.mean(axis=1)\n",
        "print(tmp)\n",
        "tmp=a.mean(axis=0)\n",
        "print(tmp)\n",
        "\n",
        "\n",
        "aux=a.sum()\n",
        "print(aux)\n",
        "medianValue=np.median(a,axis=1)\n",
        "print(medianValue)"
      ],
      "metadata": {
        "colab": {
          "base_uri": "https://localhost:8080/"
        },
        "id": "HJu8hiADo2zh",
        "outputId": "0902c33d-f6db-4e84-d05c-e5906c7ad293"
      },
      "execution_count": 9,
      "outputs": [
        {
          "output_type": "stream",
          "name": "stdout",
          "text": [
            "[[2 7 7 6]\n",
            " [2 9 9 8]\n",
            " [7 8 5 1]]\n",
            "5.916666666666667\n",
            "5.916666666666667\n",
            "[5.5  7.   5.25]\n",
            "[3.66666667 8.         7.         5.        ]\n",
            "71\n",
            "[6.5 8.5 6. ]\n"
          ]
        }
      ]
    },
    {
      "cell_type": "code",
      "source": [
        "#SORTING\n",
        "b=np.random.randn(10)\n",
        "print(b)\n",
        "print(b.shape)\n",
        "b.sort()\n",
        "print(b)\n"
      ],
      "metadata": {
        "id": "J-GVlkv4rMM6",
        "outputId": "7df6d392-e746-47df-d238-4c484274cf60",
        "colab": {
          "base_uri": "https://localhost:8080/"
        }
      },
      "execution_count": 11,
      "outputs": [
        {
          "output_type": "stream",
          "name": "stdout",
          "text": [
            "[ 1.37104309  1.273376   -0.63781562  2.62077061 -0.82397771  0.50030037\n",
            "  0.41274535 -1.02907057 -0.15108397 -0.03397412]\n",
            "(10,)\n",
            "[-1.02907057 -0.82397771 -0.63781562 -0.15108397 -0.03397412  0.41274535\n",
            "  0.50030037  1.273376    1.37104309  2.62077061]\n"
          ]
        }
      ]
    },
    {
      "cell_type": "code",
      "source": [
        "c=np.array([2,3,4,4,3,7,8,2,3])\n",
        "print(np.unique(c))"
      ],
      "metadata": {
        "id": "YjfNO4gYruy8",
        "outputId": "1fabcfc7-5ae9-4d9c-c694-2ec54c72fc7e",
        "colab": {
          "base_uri": "https://localhost:8080/"
        }
      },
      "execution_count": 13,
      "outputs": [
        {
          "output_type": "stream",
          "name": "stdout",
          "text": [
            "[2 3 4 7 8]\n"
          ]
        }
      ]
    },
    {
      "cell_type": "code",
      "source": [
        "string1=np.array(['desk','chair','bulb'])\n",
        "string2=np.array(['lamp','bulb','chair'])\n",
        "\n",
        "tmp1=np.intersect1d(string1,string2)\n",
        "print(tmp1)\n",
        "tmp2=np.union1d(string1,string2)\n",
        "print(tmp2)\n",
        "tmp3=np.setdiff1d(string1,string2)\n",
        "print(tmp3)\n",
        "tmp4=np.in1d(string1,string2)\n",
        "print(tmp4)\n",
        "\n",
        "\n",
        "\n",
        "\n",
        "\n",
        "\n",
        "\n",
        ""
      ],
      "metadata": {
        "id": "xN4bCobEsM3P",
        "outputId": "5db9e1e2-398f-48cf-aa0a-2ea23b425e8a",
        "colab": {
          "base_uri": "https://localhost:8080/"
        }
      },
      "execution_count": 33,
      "outputs": [
        {
          "output_type": "stream",
          "name": "stdout",
          "text": [
            "['bulb' 'chair']\n",
            "['bulb' 'chair' 'desk' 'lamp']\n",
            "['desk']\n",
            "[False  True  True]\n"
          ]
        }
      ]
    },
    {
      "cell_type": "code",
      "source": [
        "#\n",
        "aux=np.zeros((4,3))\n",
        "print(aux)\n",
        "replicate=np.array([1,2,1])\n",
        "aux=aux+replicate\n",
        "print(aux)\n",
        "replicateCol=np.array([10,10,10])\n",
        "print(replicateCol.shape)\n",
        "replicateCol=np.reshape(replicateCol,(3,1))\n",
        "aux=np.zeros((3,3))\n",
        "print(replicateCol.shape)\n",
        "aux1=replicateCol+aux\n",
        "print(aux1)\n",
        "\n",
        "vector=np.array([45])\n",
        "matrixZeros=np.zeros((5,5))\n",
        "print(matrixZeros)\n",
        "print(matrixZeros+vector)\n"
      ],
      "metadata": {
        "id": "k6-4tEAtuWr9",
        "outputId": "b6168ded-069a-4218-b8d2-9d3c60110c67",
        "colab": {
          "base_uri": "https://localhost:8080/"
        }
      },
      "execution_count": 24,
      "outputs": [
        {
          "output_type": "stream",
          "name": "stdout",
          "text": [
            "[[0. 0. 0.]\n",
            " [0. 0. 0.]\n",
            " [0. 0. 0.]\n",
            " [0. 0. 0.]]\n",
            "[[1. 2. 1.]\n",
            " [1. 2. 1.]\n",
            " [1. 2. 1.]\n",
            " [1. 2. 1.]]\n",
            "(3,)\n",
            "(3, 1)\n",
            "[[10. 10. 10.]\n",
            " [10. 10. 10.]\n",
            " [10. 10. 10.]]\n",
            "[[0. 0. 0. 0. 0.]\n",
            " [0. 0. 0. 0. 0.]\n",
            " [0. 0. 0. 0. 0.]\n",
            " [0. 0. 0. 0. 0.]\n",
            " [0. 0. 0. 0. 0.]]\n",
            "[[45. 45. 45. 45. 45.]\n",
            " [45. 45. 45. 45. 45.]\n",
            " [45. 45. 45. 45. 45.]\n",
            " [45. 45. 45. 45. 45.]\n",
            " [45. 45. 45. 45. 45.]]\n"
          ]
        }
      ]
    }
  ]
}