{
  "nbformat": 4,
  "nbformat_minor": 0,
  "metadata": {
    "colab": {
      "provenance": [],
      "authorship_tag": "ABX9TyN3cOCAmJivoiLyxBH+Ca3d",
      "include_colab_link": true
    },
    "kernelspec": {
      "name": "python3",
      "display_name": "Python 3"
    },
    "language_info": {
      "name": "python"
    }
  },
  "cells": [
    {
      "cell_type": "markdown",
      "metadata": {
        "id": "view-in-github",
        "colab_type": "text"
      },
      "source": [
        "<a href=\"https://colab.research.google.com/github/ShirleyRM/Inteligencia-artificial-/blob/main/practica2.ipynb\" target=\"_parent\"><img src=\"https://colab.research.google.com/assets/colab-badge.svg\" alt=\"Open In Colab\"/></a>"
      ]
    },
    {
      "cell_type": "code",
      "execution_count": 1,
      "metadata": {
        "colab": {
          "base_uri": "https://localhost:8080/",
          "height": 211
        },
        "id": "Q9xXTjPfpQ8g",
        "outputId": "1d891660-7b37-4534-f6ec-1e2ece3193dd"
      },
      "outputs": [
        {
          "output_type": "error",
          "ename": "TypeError",
          "evalue": "FiguraGeometrica() takes no arguments",
          "traceback": [
            "\u001b[0;31m---------------------------------------------------------------------------\u001b[0m",
            "\u001b[0;31mTypeError\u001b[0m                                 Traceback (most recent call last)",
            "\u001b[0;32m<ipython-input-1-66ce82967117>\u001b[0m in \u001b[0;36m<cell line: 26>\u001b[0;34m()\u001b[0m\n\u001b[1;32m     24\u001b[0m \u001b[0;34m\u001b[0m\u001b[0m\n\u001b[1;32m     25\u001b[0m \u001b[0;31m# Ejemplo de uso\u001b[0m\u001b[0;34m\u001b[0m\u001b[0;34m\u001b[0m\u001b[0m\n\u001b[0;32m---> 26\u001b[0;31m \u001b[0mfigura\u001b[0m \u001b[0;34m=\u001b[0m \u001b[0mFiguraGeometrica\u001b[0m\u001b[0;34m(\u001b[0m\u001b[0mradio\u001b[0m\u001b[0;34m=\u001b[0m\u001b[0;36m5\u001b[0m\u001b[0;34m,\u001b[0m \u001b[0mbase\u001b[0m\u001b[0;34m=\u001b[0m\u001b[0;36m10\u001b[0m\u001b[0;34m,\u001b[0m \u001b[0maltura\u001b[0m\u001b[0;34m=\u001b[0m\u001b[0;36m8\u001b[0m\u001b[0;34m,\u001b[0m \u001b[0mlado\u001b[0m\u001b[0;34m=\u001b[0m\u001b[0;36m4\u001b[0m\u001b[0;34m)\u001b[0m\u001b[0;34m\u001b[0m\u001b[0;34m\u001b[0m\u001b[0m\n\u001b[0m\u001b[1;32m     27\u001b[0m \u001b[0;34m\u001b[0m\u001b[0m\n\u001b[1;32m     28\u001b[0m \u001b[0mprint\u001b[0m\u001b[0;34m(\u001b[0m\u001b[0;34m\"Área del círculo:\"\u001b[0m\u001b[0;34m,\u001b[0m \u001b[0mfigura\u001b[0m\u001b[0;34m.\u001b[0m\u001b[0marea_circulo\u001b[0m\u001b[0;34m(\u001b[0m\u001b[0;34m)\u001b[0m\u001b[0;34m)\u001b[0m\u001b[0;34m\u001b[0m\u001b[0;34m\u001b[0m\u001b[0m\n",
            "\u001b[0;31mTypeError\u001b[0m: FiguraGeometrica() takes no arguments"
          ]
        }
      ],
      "source": [
        "import math\n",
        "\n",
        "class FiguraGeometrica:\n",
        "    def _init_(self, radio=None, base=None, altura=None, lado=None):\n",
        "        self.radio = radio\n",
        "        self.base = base\n",
        "        self.altura = altura\n",
        "        self.lado = lado\n",
        "\n",
        "    def area_circulo(self):\n",
        "        if self.radio is None:\n",
        "            return \"Radio no definido\"\n",
        "        return math.pi * self.radio ** 2\n",
        "\n",
        "    def area_triangulo(self):\n",
        "        if self.base is None or self.altura is None:\n",
        "            return \"Base o altura no definidos\"\n",
        "        return 0.5 * self.base * self.altura\n",
        "\n",
        "    def area_cuadrado(self):\n",
        "        if self.lado is None:\n",
        "            return \"Lado no definido\"\n",
        "        return self.lado ** 2\n",
        "\n",
        "# Ejemplo de uso\n",
        "figura = FiguraGeometrica(radio=5, base=10, altura=8, lado=4)\n",
        "\n",
        "print(\"Área del círculo:\", figura.area_circulo())\n",
        "print(\"Área del triángulo:\", figura.area_triangulo())\n",
        "print(\"Área del cuadrado:\", figura.area_cuadrado())"
      ]
    },
    {
      "cell_type": "code",
      "source": [
        "class Persona:\n",
        "    def init(self, nombre, edad):\n",
        "        self.nombre = nombre\n",
        "        self.edad = edad\n",
        "\n",
        "    def to_uppercase(self):\n",
        "        return self.nombre.upper(), self.edad\n",
        "\n",
        "    def to_lowercase(self):\n",
        "        return self.nombre.lower(), self.edad\n",
        "\n",
        "# Crear una instancia de la clase\n",
        "persona = Persona(\"Juan\", 25)\n",
        "\n",
        "# Obtener el nombre y la edad en mayúsculas\n",
        "nombre_mayus, edad_mayus = persona.to_uppercase()\n",
        "\n",
        "# Obtener el nombre y la edad en minúsculas\n",
        "nombre_minus, edad_minus = persona.to_lowercase()\n",
        "\n",
        "# Imprimir los resultados\n",
        "print(\"Nombre en mayúsculas:\", nombre_mayus)\n",
        "print(\"Edad en mayúsculas:\", edad_mayus)\n",
        "print(\"Nombre en minúsculas:\", nombre_minus)\n",
        "print(\"Edad en minúsculas:\", edad_minus)"
      ],
      "metadata": {
        "colab": {
          "base_uri": "https://localhost:8080/",
          "height": 211
        },
        "id": "1hLnKXxlqaWV",
        "outputId": "118233c7-3070-4016-f5ee-857f17ce05f0"
      },
      "execution_count": 2,
      "outputs": [
        {
          "output_type": "error",
          "ename": "TypeError",
          "evalue": "Persona() takes no arguments",
          "traceback": [
            "\u001b[0;31m---------------------------------------------------------------------------\u001b[0m",
            "\u001b[0;31mTypeError\u001b[0m                                 Traceback (most recent call last)",
            "\u001b[0;32m<ipython-input-2-e4759f94eea1>\u001b[0m in \u001b[0;36m<cell line: 13>\u001b[0;34m()\u001b[0m\n\u001b[1;32m     11\u001b[0m \u001b[0;34m\u001b[0m\u001b[0m\n\u001b[1;32m     12\u001b[0m \u001b[0;31m# Crear una instancia de la clase\u001b[0m\u001b[0;34m\u001b[0m\u001b[0;34m\u001b[0m\u001b[0m\n\u001b[0;32m---> 13\u001b[0;31m \u001b[0mpersona\u001b[0m \u001b[0;34m=\u001b[0m \u001b[0mPersona\u001b[0m\u001b[0;34m(\u001b[0m\u001b[0;34m\"Juan\"\u001b[0m\u001b[0;34m,\u001b[0m \u001b[0;36m25\u001b[0m\u001b[0;34m)\u001b[0m\u001b[0;34m\u001b[0m\u001b[0;34m\u001b[0m\u001b[0m\n\u001b[0m\u001b[1;32m     14\u001b[0m \u001b[0;34m\u001b[0m\u001b[0m\n\u001b[1;32m     15\u001b[0m \u001b[0;31m# Obtener el nombre y la edad en mayúsculas\u001b[0m\u001b[0;34m\u001b[0m\u001b[0;34m\u001b[0m\u001b[0m\n",
            "\u001b[0;31mTypeError\u001b[0m: Persona() takes no arguments"
          ]
        }
      ]
    },
    {
      "cell_type": "code",
      "source": [
        "class Calculadora:\n",
        "  def _init_(self, numero):\n",
        "    self.numero = numero\n",
        "\n",
        "  def sumar(self, otro_numero):\n",
        "    return self.numero + otro_numero\n",
        "\n",
        "  def restar(self, otro_numero):\n",
        "    return self.numero - otro_numero\n",
        "\n",
        "  def multiplicar(self, otro_numero):\n",
        "    return self.numero * otro_numero\n",
        "\n",
        "  def dividir(self, otro_numero):\n",
        "    return self.numero / otro_numero\n",
        "\n",
        "  def es_par(self):\n",
        "    return self.numero % 2 == 0\n",
        "\n",
        "# Crear una instancia de la clase Calculadora\n",
        "calculadora = Calculadora(5)\n",
        "\n",
        "# Sumar dos números\n",
        "suma = calculadora.sumar(10)\n",
        "print(f\"La suma es: {suma}\")\n",
        "\n",
        "# Restar dos números\n",
        "resta = calculadora.restar(3)\n",
        "print(f\"La resta es: {resta}\")\n",
        "\n",
        "# Multiplicar dos números\n",
        "multiplicacion = calculadora.multiplicar(2)\n",
        "print(f\"La multiplicación es: {multiplicacion}\")\n",
        "\n",
        "# Dividir dos números\n",
        "division = calculadora.dividir(2)\n",
        "print(f\"La división es: {division}\")\n",
        "\n",
        "# Comprobar si el número es par\n",
        "es_par = calculadora.es_par()\n",
        "print(f\"El número es par: {es_par}\")"
      ],
      "metadata": {
        "colab": {
          "base_uri": "https://localhost:8080/",
          "height": 211
        },
        "id": "bwzvE8COqv2d",
        "outputId": "23fc1ef3-a4da-452b-9f63-0345b9873b60"
      },
      "execution_count": 3,
      "outputs": [
        {
          "output_type": "error",
          "ename": "TypeError",
          "evalue": "Calculadora() takes no arguments",
          "traceback": [
            "\u001b[0;31m---------------------------------------------------------------------------\u001b[0m",
            "\u001b[0;31mTypeError\u001b[0m                                 Traceback (most recent call last)",
            "\u001b[0;32m<ipython-input-3-a398f7e1725a>\u001b[0m in \u001b[0;36m<cell line: 21>\u001b[0;34m()\u001b[0m\n\u001b[1;32m     19\u001b[0m \u001b[0;34m\u001b[0m\u001b[0m\n\u001b[1;32m     20\u001b[0m \u001b[0;31m# Crear una instancia de la clase Calculadora\u001b[0m\u001b[0;34m\u001b[0m\u001b[0;34m\u001b[0m\u001b[0m\n\u001b[0;32m---> 21\u001b[0;31m \u001b[0mcalculadora\u001b[0m \u001b[0;34m=\u001b[0m \u001b[0mCalculadora\u001b[0m\u001b[0;34m(\u001b[0m\u001b[0;36m5\u001b[0m\u001b[0;34m)\u001b[0m\u001b[0;34m\u001b[0m\u001b[0;34m\u001b[0m\u001b[0m\n\u001b[0m\u001b[1;32m     22\u001b[0m \u001b[0;34m\u001b[0m\u001b[0m\n\u001b[1;32m     23\u001b[0m \u001b[0;31m# Sumar dos números\u001b[0m\u001b[0;34m\u001b[0m\u001b[0;34m\u001b[0m\u001b[0m\n",
            "\u001b[0;31mTypeError\u001b[0m: Calculadora() takes no arguments"
          ]
        }
      ]
    }
  ]
}