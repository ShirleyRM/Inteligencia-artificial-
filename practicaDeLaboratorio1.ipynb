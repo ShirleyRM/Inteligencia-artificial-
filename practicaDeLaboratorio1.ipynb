{
  "nbformat": 4,
  "nbformat_minor": 0,
  "metadata": {
    "colab": {
      "provenance": [],
      "authorship_tag": "ABX9TyM8qXi5EbhootnxAag3UZlO",
      "include_colab_link": true
    },
    "kernelspec": {
      "name": "python3",
      "display_name": "Python 3"
    },
    "language_info": {
      "name": "python"
    }
  },
  "cells": [
    {
      "cell_type": "markdown",
      "metadata": {
        "id": "view-in-github",
        "colab_type": "text"
      },
      "source": [
        "<a href=\"https://colab.research.google.com/github/ShirleyRM/Inteligencia-artificial-/blob/main/practicaDeLaboratorio1.ipynb\" target=\"_parent\"><img src=\"https://colab.research.google.com/assets/colab-badge.svg\" alt=\"Open In Colab\"/></a>"
      ]
    },
    {
      "cell_type": "markdown",
      "source": [
        "# Sección nueva"
      ],
      "metadata": {
        "id": "d-B8L074_Phc"
      }
    },
    {
      "cell_type": "code",
      "source": [
        "myNumber= 3\n",
        "myNumberDecimal=3,6\n",
        "state=True"
      ],
      "metadata": {
        "id": "2QwHprDk_XpE"
      },
      "execution_count": 2,
      "outputs": []
    },
    {
      "cell_type": "code",
      "source": [
        "print(f'valor entero:{myNumber}')\n",
        "print(f'valor entero:{myNumberDecimal}')\n",
        "print(f'valor entero:{state}')"
      ],
      "metadata": {
        "colab": {
          "base_uri": "https://localhost:8080/"
        },
        "id": "ArbU-UMr_1_G",
        "outputId": "7330889d-44f6-4f16-d841-f5111e01b255"
      },
      "execution_count": 4,
      "outputs": [
        {
          "output_type": "stream",
          "name": "stdout",
          "text": [
            "valor entero:3\n",
            "valor entero:(3, 6)\n",
            "valor entero:True\n"
          ]
        }
      ]
    },
    {
      "cell_type": "code",
      "source": [
        "aux1=10\n",
        "aux2=2\n",
        "print(\"la suma de las variables aux1 + aux2 =\",aux1+aux2)"
      ],
      "metadata": {
        "colab": {
          "base_uri": "https://localhost:8080/"
        },
        "id": "LLecopD_A-Jy",
        "outputId": "67738e26-768c-41d4-8d50-dbbfdb392915"
      },
      "execution_count": 5,
      "outputs": [
        {
          "output_type": "stream",
          "name": "stdout",
          "text": [
            "la suma de las variables aux1 + aux2 = 12\n"
          ]
        }
      ]
    },
    {
      "cell_type": "code",
      "source": [
        "tmp=aux1**aux2\n",
        "print(f'el resultado de $10^2$={tmp}')"
      ],
      "metadata": {
        "colab": {
          "base_uri": "https://localhost:8080/"
        },
        "id": "IJBPnisyBdyr",
        "outputId": "93ac4a21-5641-428e-ebc9-6176488f4fa8"
      },
      "execution_count": 6,
      "outputs": [
        {
          "output_type": "stream",
          "name": "stdout",
          "text": [
            "el resultado de $10^2$=100\n"
          ]
        }
      ]
    },
    {
      "cell_type": "code",
      "source": [
        "var1='Hola'\n",
        "var2='!,Shirley'\n",
        "print(var1+var2)\n"
      ],
      "metadata": {
        "colab": {
          "base_uri": "https://localhost:8080/"
        },
        "id": "0cRfUZH3CnV-",
        "outputId": "42cde517-939a-4114-b652-02630e4b196c"
      },
      "execution_count": 8,
      "outputs": [
        {
          "output_type": "stream",
          "name": "stdout",
          "text": [
            "Hola!,Shirley\n"
          ]
        }
      ]
    },
    {
      "cell_type": "code",
      "source": [
        "num1=10\n",
        "num2=10.5\n",
        "print('el tipo de numero num1 es :', type(num1))\n",
        "print('el tipo de numero num2 es :', type(num2))"
      ],
      "metadata": {
        "colab": {
          "base_uri": "https://localhost:8080/"
        },
        "id": "mxOZEQVmDlXB",
        "outputId": "e4b9fdcd-2e16-4af3-b820-82205db2a9e3"
      },
      "execution_count": 9,
      "outputs": [
        {
          "output_type": "stream",
          "name": "stdout",
          "text": [
            "el tipo de numero num1 es : <class 'int'>\n",
            "el tipo de numero num2 es : <class 'float'>\n"
          ]
        }
      ]
    }
  ]
}