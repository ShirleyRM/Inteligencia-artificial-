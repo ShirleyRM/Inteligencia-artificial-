{
  "nbformat": 4,
  "nbformat_minor": 0,
  "metadata": {
    "colab": {
      "provenance": [],
      "authorship_tag": "ABX9TyOXkcGfBEsfz4j1QdvEit9S",
      "include_colab_link": true
    },
    "kernelspec": {
      "name": "python3",
      "display_name": "Python 3"
    },
    "language_info": {
      "name": "python"
    }
  },
  "cells": [
    {
      "cell_type": "markdown",
      "metadata": {
        "id": "view-in-github",
        "colab_type": "text"
      },
      "source": [
        "<a href=\"https://colab.research.google.com/github/ShirleyRM/Inteligencia-artificial-/blob/main/practica%233.ipynb\" target=\"_parent\"><img src=\"https://colab.research.google.com/assets/colab-badge.svg\" alt=\"Open In Colab\"/></a>"
      ]
    },
    {
      "cell_type": "code",
      "execution_count": 5,
      "metadata": {
        "colab": {
          "base_uri": "https://localhost:8080/"
        },
        "id": "kC_mCbj66mbI",
        "outputId": "ba103bc7-83b0-4018-937e-1b2379007980"
      },
      "outputs": [
        {
          "output_type": "stream",
          "name": "stdout",
          "text": [
            "<class 'numpy.ndarray'>\n",
            "[11 22 33]\n",
            "22\n",
            "[11 22]\n",
            "[22 33]\n",
            "[ 11 888  33]\n"
          ]
        }
      ],
      "source": [
        "import numpy as algebralineal\n",
        "\n",
        "a=algebralineal.array([11,22,33])\n",
        "print(type(a))\n",
        "print(a)\n",
        "\n",
        "print(a[1])\n",
        "print(a[:2])\n",
        "print(a[1:3])\n",
        "a[1]=888\n",
        "print(a)"
      ]
    },
    {
      "cell_type": "code",
      "source": [
        "import numpy as np\n",
        "b=np.array([[1,2,3],[11,22,33],[111,222,333]])\n",
        "print(b.shape)\n",
        "print(type(b))\n",
        "print(b)\n",
        "print(b[1,1])\n",
        "aux=b [1:,1:] . copy()\n",
        "print(aux.shape)\n",
        "print(aux)\n",
        "\n",
        "print('BEFORE/......')\n",
        "print(b)\n",
        "print(aux)\n",
        "\n",
        "aux[1,1]=1000\n",
        "\n",
        "print('AFTER/......')\n",
        "print(b)\n",
        "print(aux)\n",
        "\n",
        "\n",
        "\n"
      ],
      "metadata": {
        "colab": {
          "base_uri": "https://localhost:8080/"
        },
        "id": "KNB4I9_KATOn",
        "outputId": "ad90c46a-3ec8-4859-9e7b-eb2dcbf459c0"
      },
      "execution_count": 12,
      "outputs": [
        {
          "output_type": "stream",
          "name": "stdout",
          "text": [
            "(3, 3)\n",
            "<class 'numpy.ndarray'>\n",
            "[[  1   2   3]\n",
            " [ 11  22  33]\n",
            " [111 222 333]]\n",
            "22\n",
            "(2, 2)\n",
            "[[ 22  33]\n",
            " [222 333]]\n",
            "BEFORE/......\n",
            "[[  1   2   3]\n",
            " [ 11  22  33]\n",
            " [111 222 333]]\n",
            "[[ 22  33]\n",
            " [222 333]]\n",
            "AFTER/......\n",
            "[[  1   2   3]\n",
            " [ 11  22  33]\n",
            " [111 222 333]]\n",
            "[[  22   33]\n",
            " [ 222 1000]]\n"
          ]
        }
      ]
    },
    {
      "cell_type": "code",
      "source": [
        "c=np.zeros((4,4))\n",
        "print(c)\n",
        "print(c.shape)\n",
        "d=np.full((4,4),9)\n",
        "print(d)"
      ],
      "metadata": {
        "colab": {
          "base_uri": "https://localhost:8080/"
        },
        "id": "wBbpjZ1-ERYJ",
        "outputId": "393e612d-51aa-465c-cb26-3038b5a09c33"
      },
      "execution_count": 13,
      "outputs": [
        {
          "output_type": "stream",
          "name": "stdout",
          "text": [
            "[[0. 0. 0. 0.]\n",
            " [0. 0. 0. 0.]\n",
            " [0. 0. 0. 0.]\n",
            " [0. 0. 0. 0.]]\n",
            "(4, 4)\n",
            "[[9 9 9 9]\n",
            " [9 9 9 9]\n",
            " [9 9 9 9]\n",
            " [9 9 9 9]]\n"
          ]
        }
      ]
    },
    {
      "cell_type": "code",
      "source": [
        "e=np.eye(3,3)\n",
        "print(e)\n",
        "f=np.ones((4,5))\n",
        "print(f)"
      ],
      "metadata": {
        "colab": {
          "base_uri": "https://localhost:8080/"
        },
        "id": "5-8p2vQ5EqXo",
        "outputId": "6422dc9d-7d8f-4be8-946b-81b78d00585a"
      },
      "execution_count": 15,
      "outputs": [
        {
          "output_type": "stream",
          "name": "stdout",
          "text": [
            "[[1. 0. 0.]\n",
            " [0. 1. 0.]\n",
            " [0. 0. 1.]]\n",
            "[[1. 1. 1. 1. 1.]\n",
            " [1. 1. 1. 1. 1.]\n",
            " [1. 1. 1. 1. 1.]\n",
            " [1. 1. 1. 1. 1.]]\n"
          ]
        }
      ]
    },
    {
      "cell_type": "code",
      "source": [
        "g=np.random.random((5,5))\n",
        "print(g)"
      ],
      "metadata": {
        "colab": {
          "base_uri": "https://localhost:8080/"
        },
        "id": "OyPZbDwtFJYG",
        "outputId": "104139c7-d7fd-4734-9be7-223997269ba6"
      },
      "execution_count": 16,
      "outputs": [
        {
          "output_type": "stream",
          "name": "stdout",
          "text": [
            "[[0.69000339 0.647933   0.99008059 0.35329919 0.39716932]\n",
            " [0.42827527 0.71624959 0.85114708 0.55749973 0.82301468]\n",
            " [0.72407385 0.963605   0.56188766 0.19851795 0.86034462]\n",
            " [0.68063867 0.66078192 0.25918047 0.06586532 0.61105205]\n",
            " [0.45111177 0.95034457 0.23931979 0.39353233 0.03039282]]\n"
          ]
        }
      ]
    },
    {
      "cell_type": "code",
      "source": [
        "tmpl=np.random.randint(1,20,(4,4))\n",
        "print(tmpl)\n",
        "\n",
        "rows=np.array([0,1,2,0])\n",
        "cols=np.arange(4)\n",
        "print(rows)\n",
        "print(cols)\n",
        "print(rows.shape)\n",
        "print(cols.shape)\n",
        "\n",
        "\n",
        "\n",
        "\n"
      ],
      "metadata": {
        "colab": {
          "base_uri": "https://localhost:8080/"
        },
        "id": "KVAgGpIlE2o6",
        "outputId": "a09f89f3-0547-4bd1-f84a-ebce07f16a78"
      },
      "execution_count": 21,
      "outputs": [
        {
          "output_type": "stream",
          "name": "stdout",
          "text": [
            "[[11 16  5 10]\n",
            " [13  4 16  3]\n",
            " [15 10  9 15]\n",
            " [ 7  3  7  7]]\n",
            "[0 1 2 0]\n",
            "[0 1 2 3]\n",
            "(4,)\n",
            "(4,)\n"
          ]
        }
      ]
    },
    {
      "cell_type": "code",
      "source": [
        "tmpl[rows,cols]=100\n",
        "print(tmpl)"
      ],
      "metadata": {
        "colab": {
          "base_uri": "https://localhost:8080/"
        },
        "id": "MmznDoilGKOo",
        "outputId": "8e4821aa-3b85-4cd0-99fb-24999a8fef1c"
      },
      "execution_count": 22,
      "outputs": [
        {
          "output_type": "stream",
          "name": "stdout",
          "text": [
            "[[100  16   5 100]\n",
            " [ 13 100  16   3]\n",
            " [ 15  10 100  15]\n",
            " [  7   3   7   7]]\n"
          ]
        }
      ]
    },
    {
      "cell_type": "code",
      "source": [
        "tmpl=np.random.randint(20,50,(6,6))\n",
        "print(tmpl)\n",
        "\n",
        "filter=(tmpl>45)\n",
        "print(filter)\n",
        "print(tmpl[filter])\n"
      ],
      "metadata": {
        "colab": {
          "base_uri": "https://localhost:8080/"
        },
        "id": "HLxiYPRvKGMd",
        "outputId": "f4bcad15-cd33-417a-d022-24972c876832"
      },
      "execution_count": 26,
      "outputs": [
        {
          "output_type": "stream",
          "name": "stdout",
          "text": [
            "[[35 24 34 37 37 32]\n",
            " [32 29 49 34 40 46]\n",
            " [34 43 24 47 30 37]\n",
            " [33 42 28 20 20 22]\n",
            " [28 49 33 49 45 49]\n",
            " [44 43 41 27 27 38]]\n",
            "[[False False False False False False]\n",
            " [False False  True False False  True]\n",
            " [False False False  True False False]\n",
            " [False False False False False False]\n",
            " [False  True False  True False  True]\n",
            " [False False False False False False]]\n",
            "[49 46 47 49 49 49]\n"
          ]
        }
      ]
    },
    {
      "cell_type": "code",
      "source": [
        "tmpl=np.random.randint(1,100,(10,10))\n",
        "print(tmpl)\n",
        "\n",
        "pares=tmpl[tmpl % 2== 0]\n",
        "print(pares)\n"
      ],
      "metadata": {
        "colab": {
          "base_uri": "https://localhost:8080/"
        },
        "id": "ogpaB2ItMYVC",
        "outputId": "039ab792-d495-4968-cd43-bf5025663de8"
      },
      "execution_count": 30,
      "outputs": [
        {
          "output_type": "stream",
          "name": "stdout",
          "text": [
            "[[13 60 55 72  1 43 13 86  7 66]\n",
            " [12 17 99 71 58 24 90 71 43 81]\n",
            " [31 42 14 35 43 40 91 37  6 74]\n",
            " [16 86 26 18 88 85 41 42 62  8]\n",
            " [19 49 74 85 97 89 20 26 60 61]\n",
            " [54 77  3 46 67 54 38 17 18 18]\n",
            " [70 11 26 40 21 65 85 45  1 91]\n",
            " [ 1 91 27 77 65 68 82 81  3 69]\n",
            " [90 71 97 64 65 30 15 84  6 21]\n",
            " [60 95 45 31 38  5 88 77 76 52]]\n",
            "[60 72 86 66 12 58 24 90 42 14 40  6 74 16 86 26 18 88 42 62  8 74 20 26\n",
            " 60 54 46 54 38 18 18 70 26 40 68 82 90 64 30 84  6 60 38 88 76 52]\n"
          ]
        }
      ]
    },
    {
      "cell_type": "code",
      "source": [
        "tmp3=np.array([1,2,3,4,5],dtype=np.float64)\n",
        "print(tmp3.dtype)"
      ],
      "metadata": {
        "colab": {
          "base_uri": "https://localhost:8080/"
        },
        "id": "gsAKdqPPOU_J",
        "outputId": "f7f36db3-a58e-4d45-df21-b53db79749ee"
      },
      "execution_count": 32,
      "outputs": [
        {
          "output_type": "stream",
          "name": "stdout",
          "text": [
            "float64\n"
          ]
        }
      ]
    },
    {
      "cell_type": "code",
      "source": [
        "x=np.array([[1,2],[11,22]])\n",
        "y=np.array([[22,33],[44,55]])\n",
        "print(x)\n",
        "print(y)\n",
        "print(np.add[x,y])\n",
        "print(np.subtract[x,y])\n",
        "print(np.multiply[x,y])\n",
        "print(np.divide[x,y])\n",
        "print(np.sqrt(x))"
      ],
      "metadata": {
        "colab": {
          "base_uri": "https://localhost:8080/",
          "height": 280
        },
        "id": "4RM2vTFPPJ9E",
        "outputId": "e5589a74-9c69-44c7-888c-2ac08950ec26"
      },
      "execution_count": 38,
      "outputs": [
        {
          "output_type": "stream",
          "name": "stdout",
          "text": [
            "[[ 1  2]\n",
            " [11 22]]\n",
            "[[22 33]\n",
            " [44 55]]\n"
          ]
        },
        {
          "output_type": "error",
          "ename": "TypeError",
          "evalue": "'numpy.ufunc' object is not subscriptable",
          "traceback": [
            "\u001b[0;31m---------------------------------------------------------------------------\u001b[0m",
            "\u001b[0;31mTypeError\u001b[0m                                 Traceback (most recent call last)",
            "\u001b[0;32m<ipython-input-38-fb3ca1c42455>\u001b[0m in \u001b[0;36m<cell line: 5>\u001b[0;34m()\u001b[0m\n\u001b[1;32m      3\u001b[0m \u001b[0mprint\u001b[0m\u001b[0;34m(\u001b[0m\u001b[0mx\u001b[0m\u001b[0;34m)\u001b[0m\u001b[0;34m\u001b[0m\u001b[0;34m\u001b[0m\u001b[0m\n\u001b[1;32m      4\u001b[0m \u001b[0mprint\u001b[0m\u001b[0;34m(\u001b[0m\u001b[0my\u001b[0m\u001b[0;34m)\u001b[0m\u001b[0;34m\u001b[0m\u001b[0;34m\u001b[0m\u001b[0m\n\u001b[0;32m----> 5\u001b[0;31m \u001b[0mprint\u001b[0m\u001b[0;34m(\u001b[0m\u001b[0mnp\u001b[0m\u001b[0;34m.\u001b[0m\u001b[0madd\u001b[0m\u001b[0;34m[\u001b[0m\u001b[0mx\u001b[0m\u001b[0;34m,\u001b[0m\u001b[0my\u001b[0m\u001b[0;34m]\u001b[0m\u001b[0;34m)\u001b[0m\u001b[0;34m\u001b[0m\u001b[0;34m\u001b[0m\u001b[0m\n\u001b[0m\u001b[1;32m      6\u001b[0m \u001b[0mprint\u001b[0m\u001b[0;34m(\u001b[0m\u001b[0mnp\u001b[0m\u001b[0;34m.\u001b[0m\u001b[0msubtract\u001b[0m\u001b[0;34m[\u001b[0m\u001b[0mx\u001b[0m\u001b[0;34m,\u001b[0m\u001b[0my\u001b[0m\u001b[0;34m]\u001b[0m\u001b[0;34m)\u001b[0m\u001b[0;34m\u001b[0m\u001b[0;34m\u001b[0m\u001b[0m\n\u001b[1;32m      7\u001b[0m \u001b[0mprint\u001b[0m\u001b[0;34m(\u001b[0m\u001b[0mnp\u001b[0m\u001b[0;34m.\u001b[0m\u001b[0mmultiply\u001b[0m\u001b[0;34m[\u001b[0m\u001b[0mx\u001b[0m\u001b[0;34m,\u001b[0m\u001b[0my\u001b[0m\u001b[0;34m]\u001b[0m\u001b[0;34m)\u001b[0m\u001b[0;34m\u001b[0m\u001b[0;34m\u001b[0m\u001b[0m\n",
            "\u001b[0;31mTypeError\u001b[0m: 'numpy.ufunc' object is not subscriptable"
          ]
        }
      ]
    },
    {
      "cell_type": "code",
      "source": [
        "tmpl=np.random.randint(1,10,(2,5))\n",
        "print(tmpl)\n",
        "aux=tmpl.mean()\n",
        "print(aux)"
      ],
      "metadata": {
        "colab": {
          "base_uri": "https://localhost:8080/"
        },
        "id": "AOjGgalTQll0",
        "outputId": "c1128e96-aca0-4bc1-e4a6-978307f1cb7a"
      },
      "execution_count": 36,
      "outputs": [
        {
          "output_type": "stream",
          "name": "stdout",
          "text": [
            "[[5 9 5 9 2]\n",
            " [1 7 5 7 6]]\n",
            "5.6\n"
          ]
        }
      ]
    },
    {
      "cell_type": "code",
      "source": [
        "print(tmpl.mean(axis=1))\n",
        "print(tmpl.mean(axis=0))"
      ],
      "metadata": {
        "colab": {
          "base_uri": "https://localhost:8080/"
        },
        "id": "G3jwaIrFRVUL",
        "outputId": "a9c10a56-2c44-4136-9de4-983d84465dc3"
      },
      "execution_count": 37,
      "outputs": [
        {
          "output_type": "stream",
          "name": "stdout",
          "text": [
            "[6.  5.2]\n",
            "[3. 8. 5. 8. 4.]\n"
          ]
        }
      ]
    }
  ]
}