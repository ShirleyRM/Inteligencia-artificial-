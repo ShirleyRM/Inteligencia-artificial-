{
  "nbformat": 4,
  "nbformat_minor": 0,
  "metadata": {
    "colab": {
      "provenance": [],
      "authorship_tag": "ABX9TyOevSmLOSloTk8Z2zMkLeG8",
      "include_colab_link": true
    },
    "kernelspec": {
      "name": "python3",
      "display_name": "Python 3"
    },
    "language_info": {
      "name": "python"
    }
  },
  "cells": [
    {
      "cell_type": "markdown",
      "metadata": {
        "id": "view-in-github",
        "colab_type": "text"
      },
      "source": [
        "<a href=\"https://colab.research.google.com/github/ShirleyRM/Inteligencia-artificial-/blob/main/prueba%20de%20IA.ipynb\" target=\"_parent\"><img src=\"https://colab.research.google.com/assets/colab-badge.svg\" alt=\"Open In Colab\"/></a>"
      ]
    },
    {
      "cell_type": "code",
      "execution_count": 19,
      "metadata": {
        "colab": {
          "base_uri": "https://localhost:8080/"
        },
        "id": "r_XMIT0QNSzf",
        "outputId": "76c752d5-2c6e-44c6-dffc-69a50233ffc5"
      },
      "outputs": [
        {
          "output_type": "stream",
          "name": "stdout",
          "text": [
            "Arreglo a vertical:\n",
            "[[1]\n",
            " [2]\n",
            " [3]\n",
            " [4]]\n",
            "Arreglo b vertical:\n",
            "[[5]\n",
            " [6]\n",
            " [7]\n",
            " [8]]\n"
          ]
        }
      ],
      "source": [
        "import numpy as np\n",
        "\n",
        "# Crear los arreglos unidimensionales\n",
        "a = np.array([1, 2, 3, 4])\n",
        "b = np.array([5, 6, 7, 8])\n",
        "\n",
        "# Convertir los arreglos en columnas usando reshape\n",
        "a_vertical = a.reshape(-1, 1)  #a.reshape permite convertir el arreglo a en una fila\n",
        "b_vertical = b.reshape(-1, 1)\n",
        "\n",
        "# Mostrar los arreglos\n",
        "print(\"Arreglo a vertical:\")\n",
        "print(a_vertical)\n",
        "\n",
        "print(\"Arreglo b vertical:\")\n",
        "print(b_vertical)\n",
        "\n",
        "\n",
        ""
      ]
    },
    {
      "cell_type": "code",
      "source": [
        "import numpy as np\n",
        "\n",
        "# Crear los arreglos unidimensionales\n",
        "a = np.array([1, 2, 3, 4])\n",
        "b = np.array([5, 6, 7, 8])\n",
        "\n",
        "# Convertir los arreglos en filas usando reshape\n",
        "a_horizontal = a.reshape(1, -1)\n",
        "b_horizontal = b.reshape(1, -1)\n",
        "\n",
        "# Mostrar los arreglos\n",
        "print(\"Arreglo a horizontal:\")\n",
        "print(a_horizontal)\n",
        "\n",
        "print(\"Arreglo b horizontal:\")\n",
        "print(b_horizontal)\n"
      ],
      "metadata": {
        "colab": {
          "base_uri": "https://localhost:8080/"
        },
        "id": "nSfZznIXVRdZ",
        "outputId": "213ec83b-6f58-4982-c77c-2f4ce80b01c8"
      },
      "execution_count": 20,
      "outputs": [
        {
          "output_type": "stream",
          "name": "stdout",
          "text": [
            "Arreglo a horizontal:\n",
            "[[1 2 3 4]]\n",
            "Arreglo b horizontal:\n",
            "[[5 6 7 8]]\n"
          ]
        }
      ]
    },
    {
      "cell_type": "code",
      "source": [
        "import numpy as np\n",
        "\n",
        "# Crear la matriz tmp\n",
        "tmp = np.arange(15)  #crea un arreglo unidimensional con valores del 0 al 14.\n",
        "\n",
        "# Obtener todos los elementos entre 5 y 10\n",
        "result = tmp[(tmp >= 5) & (tmp <= 10)]\n",
        "\n",
        "# Mostrar el resultado\n",
        "print(\"Elementos entre 5 y 10:\")\n",
        "print(result)\n"
      ],
      "metadata": {
        "colab": {
          "base_uri": "https://localhost:8080/"
        },
        "id": "JSXRKF22VbnZ",
        "outputId": "4318e762-5b07-4601-dfa6-01ea1b1d4977"
      },
      "execution_count": 21,
      "outputs": [
        {
          "output_type": "stream",
          "name": "stdout",
          "text": [
            "Elementos entre 5 y 10:\n",
            "[ 5  6  7  8  9 10]\n"
          ]
        }
      ]
    },
    {
      "cell_type": "code",
      "source": [
        "import numpy as np\n",
        "a=np.array([5,7,9,8,6,4,5])\n",
        "b=np.array([6,3,4,8,9,7,1])\n",
        "pair_max(a,b)\n",
        "\n"
      ],
      "metadata": {
        "id": "P_qxLnNLWTS6"
      },
      "execution_count": null,
      "outputs": []
    }
  ]
}