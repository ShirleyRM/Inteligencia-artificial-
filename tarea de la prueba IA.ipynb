{
  "nbformat": 4,
  "nbformat_minor": 0,
  "metadata": {
    "colab": {
      "provenance": [],
      "authorship_tag": "ABX9TyMPtKwxjyO2fe0qiLCSaHhC",
      "include_colab_link": true
    },
    "kernelspec": {
      "name": "python3",
      "display_name": "Python 3"
    },
    "language_info": {
      "name": "python"
    }
  },
  "cells": [
    {
      "cell_type": "markdown",
      "metadata": {
        "id": "view-in-github",
        "colab_type": "text"
      },
      "source": [
        "<a href=\"https://colab.research.google.com/github/ShirleyRM/Inteligencia-artificial-/blob/main/tarea%20de%20la%20prueba%20IA.ipynb\" target=\"_parent\"><img src=\"https://colab.research.google.com/assets/colab-badge.svg\" alt=\"Open In Colab\"/></a>"
      ]
    },
    {
      "cell_type": "code",
      "execution_count": 1,
      "metadata": {
        "colab": {
          "base_uri": "https://localhost:8080/"
        },
        "id": "iiGVTrhY0ORD",
        "outputId": "eec530b8-c527-4d4d-b67a-aaaeeebf7b60"
      },
      "outputs": [
        {
          "output_type": "stream",
          "name": "stdout",
          "text": [
            "1.25.2\n"
          ]
        }
      ],
      "source": [
        "# Importar numpy y ver la versión\n",
        "import numpy as np\n",
        "print(np.__version__)\n"
      ]
    },
    {
      "cell_type": "code",
      "source": [
        "# Crear un array 1D de números del 0 al 9\n",
        "array_1d = np.arange(10)\n",
        "print(array_1d)\n"
      ],
      "metadata": {
        "colab": {
          "base_uri": "https://localhost:8080/"
        },
        "id": "Q0I6rS8Y0Tdw",
        "outputId": "42af822a-8205-4e8f-b1c8-661d378967f2"
      },
      "execution_count": 2,
      "outputs": [
        {
          "output_type": "stream",
          "name": "stdout",
          "text": [
            "[0 1 2 3 4 5 6 7 8 9]\n"
          ]
        }
      ]
    },
    {
      "cell_type": "code",
      "source": [
        "# Crear un vector aleatorio de tamaño 10 y reemplazar el valor máximo por 0\n",
        "vector = np.random.random(10)\n",
        "print(\"Vector original:\", vector)\n",
        "vector[vector.argmax()] = 0\n",
        "print(\"Vector modificado:\", vector)\n"
      ],
      "metadata": {
        "colab": {
          "base_uri": "https://localhost:8080/"
        },
        "id": "Q8Dpsvq40XPp",
        "outputId": "5f0af400-1679-45f4-d062-37b0a5d80602"
      },
      "execution_count": 3,
      "outputs": [
        {
          "output_type": "stream",
          "name": "stdout",
          "text": [
            "Vector original: [0.62534231 0.35591012 0.13499008 0.01110527 0.00795219 0.3144834\n",
            " 0.81398223 0.61434513 0.91331217 0.25879317]\n",
            "Vector modificado: [0.62534231 0.35591012 0.13499008 0.01110527 0.00795219 0.3144834\n",
            " 0.81398223 0.61434513 0.         0.25879317]\n"
          ]
        }
      ]
    },
    {
      "cell_type": "code",
      "source": [
        "# Imprimir el número 8 del array dado\n",
        "arr = np.array([[1,2,3,4,5], [6,7,8,9,10]])\n",
        "print(arr[1, 2])\n"
      ],
      "metadata": {
        "colab": {
          "base_uri": "https://localhost:8080/"
        },
        "id": "EVxZbtMR0lvB",
        "outputId": "4ea900d6-b143-4f45-debe-be8541b0076d"
      },
      "execution_count": 4,
      "outputs": [
        {
          "output_type": "stream",
          "name": "stdout",
          "text": [
            "8\n"
          ]
        }
      ]
    },
    {
      "cell_type": "code",
      "source": [
        "# Imprimir los números [3, 4, 5] del array dado\n",
        "arr = np.array([1,2,3,4,5,6,7])\n",
        "print(arr[2:5])\n"
      ],
      "metadata": {
        "colab": {
          "base_uri": "https://localhost:8080/"
        },
        "id": "1FpXL8SW0nvB",
        "outputId": "a1a0b522-4a32-4de2-9411-4387b8e16605"
      },
      "execution_count": 5,
      "outputs": [
        {
          "output_type": "stream",
          "name": "stdout",
          "text": [
            "[3 4 5]\n"
          ]
        }
      ]
    },
    {
      "cell_type": "code",
      "source": [
        "# Imprimir los últimos 4 números del array dado\n",
        "arr = np.array([1,2,3,4,5,6,7])\n",
        "print(arr[-4:])\n"
      ],
      "metadata": {
        "colab": {
          "base_uri": "https://localhost:8080/"
        },
        "id": "CHF8OTGQ0zbw",
        "outputId": "8615b561-c0b6-4259-98ec-b610b3015b1d"
      },
      "execution_count": 6,
      "outputs": [
        {
          "output_type": "stream",
          "name": "stdout",
          "text": [
            "[4 5 6 7]\n"
          ]
        }
      ]
    },
    {
      "cell_type": "code",
      "source": [
        "# Crear un array numpy de 3x3 con todos valores True\n",
        "array_true = np.ones((3, 3), dtype=bool)\n",
        "print(array_true)\n"
      ],
      "metadata": {
        "colab": {
          "base_uri": "https://localhost:8080/"
        },
        "id": "XGI_f2af06ap",
        "outputId": "1b15c28f-f40b-43a7-8167-96f902aa6312"
      },
      "execution_count": 7,
      "outputs": [
        {
          "output_type": "stream",
          "name": "stdout",
          "text": [
            "[[ True  True  True]\n",
            " [ True  True  True]\n",
            " [ True  True  True]]\n"
          ]
        }
      ]
    },
    {
      "cell_type": "code",
      "source": [
        "# Extraer todos los números impares del array\n",
        "arr = np.arange(1, 20)\n",
        "impares = arr[arr % 2 != 0]\n",
        "print(impares)\n"
      ],
      "metadata": {
        "colab": {
          "base_uri": "https://localhost:8080/"
        },
        "id": "f-z2fWAE09EF",
        "outputId": "b6577d01-97fe-423b-f1bc-166ba1656e8c"
      },
      "execution_count": 8,
      "outputs": [
        {
          "output_type": "stream",
          "name": "stdout",
          "text": [
            "[ 1  3  5  7  9 11 13 15 17 19]\n"
          ]
        }
      ]
    },
    {
      "cell_type": "code",
      "source": [
        "# Crear un vector con valores del 10 al 49\n",
        "vector = np.arange(10, 50)\n",
        "print(vector)\n"
      ],
      "metadata": {
        "colab": {
          "base_uri": "https://localhost:8080/"
        },
        "id": "zCo7rtXW1Df2",
        "outputId": "44c335c1-6438-4c10-e641-9ec8bc9c464b"
      },
      "execution_count": 9,
      "outputs": [
        {
          "output_type": "stream",
          "name": "stdout",
          "text": [
            "[10 11 12 13 14 15 16 17 18 19 20 21 22 23 24 25 26 27 28 29 30 31 32 33\n",
            " 34 35 36 37 38 39 40 41 42 43 44 45 46 47 48 49]\n"
          ]
        }
      ]
    },
    {
      "cell_type": "code",
      "source": [
        "# Invertir un vector (el primer elemento se convierte en el último)\n",
        "vector = np.arange(10)\n",
        "vector_invertido = vector[::-1]\n",
        "print(vector_invertido)\n"
      ],
      "metadata": {
        "colab": {
          "base_uri": "https://localhost:8080/"
        },
        "id": "SwTye5JG1G9i",
        "outputId": "3de9027e-81fd-4e8e-9011-f4447d1007e3"
      },
      "execution_count": 10,
      "outputs": [
        {
          "output_type": "stream",
          "name": "stdout",
          "text": [
            "[9 8 7 6 5 4 3 2 1 0]\n"
          ]
        }
      ]
    },
    {
      "cell_type": "code",
      "source": [
        "# Crear un array de 10x10 con valores enteros aleatorios y encontrar los valores mínimo y máximo\n",
        "array_10x10 = np.random.randint(0, 100, (10, 10))\n",
        "min_val = array_10x10.min()\n",
        "max_val = array_10x10.max()\n",
        "print(\"Array:\\n\", array_10x10)\n",
        "print(\"Valor mínimo:\", min_val)\n",
        "print(\"Valor máximo:\", max_val)\n"
      ],
      "metadata": {
        "colab": {
          "base_uri": "https://localhost:8080/"
        },
        "id": "uexPOpsc1KSA",
        "outputId": "26e3d055-75b9-4a99-9bbe-9224b1b7b6bf"
      },
      "execution_count": 11,
      "outputs": [
        {
          "output_type": "stream",
          "name": "stdout",
          "text": [
            "Array:\n",
            " [[34 35 73 83 83 81 20 92 39  7]\n",
            " [85  8 12 73 38 91 41 23 70  8]\n",
            " [85 22 71 46 12 29 52  0 66 45]\n",
            " [32 61 93 41 36 73 33 86 13 27]\n",
            " [53 24 44 29 48 96 27 15 33 13]\n",
            " [72 65 38 14 85 21 11 81 48 96]\n",
            " [73 60 67 69 81 74 96 91  3 69]\n",
            " [27 16 59  7 66 21 40 66 38 24]\n",
            " [78 71 61 72 30  6 79 55  6 44]\n",
            " [15 97 15 51 68 59 82 12 52 46]]\n",
            "Valor mínimo: 0\n",
            "Valor máximo: 97\n"
          ]
        }
      ]
    },
    {
      "cell_type": "code",
      "source": [
        "# Crear un array 3x3x3 con valores aleatorios\n",
        "array_3x3x3 = np.random.random((3, 3, 3))\n",
        "print(array_3x3x3)\n"
      ],
      "metadata": {
        "colab": {
          "base_uri": "https://localhost:8080/"
        },
        "id": "09u6LyT41PNL",
        "outputId": "d61ff4a7-234a-40ee-c2ec-6c022ac39e16"
      },
      "execution_count": 12,
      "outputs": [
        {
          "output_type": "stream",
          "name": "stdout",
          "text": [
            "[[[0.24309639 0.38685774 0.98851876]\n",
            "  [0.56320525 0.72993634 0.24669797]\n",
            "  [0.12664772 0.26393572 0.28179009]]\n",
            "\n",
            " [[0.08568716 0.68755606 0.66720002]\n",
            "  [0.3603075  0.8631561  0.66711142]\n",
            "  [0.35567711 0.83340691 0.09568646]]\n",
            "\n",
            " [[0.20543711 0.49756675 0.50872634]\n",
            "  [0.84312729 0.24005974 0.45110248]\n",
            "  [0.04356041 0.81246168 0.47034632]]]\n"
          ]
        }
      ]
    },
    {
      "cell_type": "code",
      "source": [
        "# Reemplazar todos los números impares en un array con -1\n",
        "arr = np.arange(10)\n",
        "arr[arr % 2 != 0] = -1\n",
        "print(arr)\n"
      ],
      "metadata": {
        "colab": {
          "base_uri": "https://localhost:8080/"
        },
        "id": "NqkuCajr1XYU",
        "outputId": "55eaa85a-6371-487e-cafa-16af0720ec22"
      },
      "execution_count": 13,
      "outputs": [
        {
          "output_type": "stream",
          "name": "stdout",
          "text": [
            "[ 0 -1  2 -1  4 -1  6 -1  8 -1]\n"
          ]
        }
      ]
    },
    {
      "cell_type": "code",
      "source": [
        "# Crear un array de tipo float\n",
        "array_float = np.array([1, 2, 3], dtype=float)\n",
        "print(array_float)\n"
      ],
      "metadata": {
        "colab": {
          "base_uri": "https://localhost:8080/"
        },
        "id": "We_DbRP01hjy",
        "outputId": "aa763e0d-197d-47e1-d237-2db8af43fe21"
      },
      "execution_count": 14,
      "outputs": [
        {
          "output_type": "stream",
          "name": "stdout",
          "text": [
            "[1. 2. 3.]\n"
          ]
        }
      ]
    },
    {
      "cell_type": "code",
      "source": [
        "# Convertir un array 1D a un array 2D con 2 filas\n",
        "array_1d = np.arange(10)\n",
        "array_2d = array_1d.reshape(2, -1)\n",
        "print(array_2d)\n"
      ],
      "metadata": {
        "colab": {
          "base_uri": "https://localhost:8080/"
        },
        "id": "51gEPiU-1k5-",
        "outputId": "f22b6bf6-4206-409c-c5ec-6936f152114b"
      },
      "execution_count": 15,
      "outputs": [
        {
          "output_type": "stream",
          "name": "stdout",
          "text": [
            "[[0 1 2 3 4]\n",
            " [5 6 7 8 9]]\n"
          ]
        }
      ]
    },
    {
      "cell_type": "code",
      "source": [
        "# Encontrar valores comunes entre dos arrays\n",
        "Z1 = np.random.randint(0, 10, 10)\n",
        "Z2 = np.random.randint(0, 10, 10)\n",
        "valores_comunes = np.intersect1d(Z1, Z2)\n",
        "print(\"Z1:\", Z1)\n",
        "print(\"Z2:\", Z2)\n",
        "print(\"Valores comunes:\", valores_comunes)\n"
      ],
      "metadata": {
        "colab": {
          "base_uri": "https://localhost:8080/"
        },
        "id": "e1CZ-NBD1uVP",
        "outputId": "cb8fd344-b61c-40f4-be6c-22bac1b2c894"
      },
      "execution_count": 16,
      "outputs": [
        {
          "output_type": "stream",
          "name": "stdout",
          "text": [
            "Z1: [3 4 1 8 0 7 2 4 7 8]\n",
            "Z2: [0 5 4 2 4 0 9 4 6 2]\n",
            "Valores comunes: [0 2 4]\n"
          ]
        }
      ]
    },
    {
      "cell_type": "code",
      "source": [
        "# Considerar dos arrays aleatorios A y B, verificar si son iguales\n",
        "A = np.random.randint(0, 2, 5)\n",
        "B = np.random.randint(0, 2, 5)\n",
        "iguales = np.array_equal(A, B)\n",
        "print(\"A:\", A)\n",
        "print(\"B:\", B)\n",
        "print(\"Son iguales:\", iguales)\n"
      ],
      "metadata": {
        "colab": {
          "base_uri": "https://localhost:8080/"
        },
        "id": "HkzkvikA1xBv",
        "outputId": "6cd457dc-608e-4bfa-ef0c-ae9dfe4115a6"
      },
      "execution_count": 17,
      "outputs": [
        {
          "output_type": "stream",
          "name": "stdout",
          "text": [
            "A: [0 0 0 1 1]\n",
            "B: [0 1 1 1 1]\n",
            "Son iguales: False\n"
          ]
        }
      ]
    },
    {
      "cell_type": "code",
      "source": [
        "# Apilar arrays a y b verticalmente\n",
        "a = np.array([1, 2, 3])\n",
        "b = np.array([4, 5, 6])\n",
        "apilados_vert = np.vstack((a, b))\n",
        "print(apilados_vert)\n"
      ],
      "metadata": {
        "colab": {
          "base_uri": "https://localhost:8080/"
        },
        "id": "Cg9_EdrN14-n",
        "outputId": "ce2ef9ba-0a4c-4097-fa33-84b6afa1a218"
      },
      "execution_count": 18,
      "outputs": [
        {
          "output_type": "stream",
          "name": "stdout",
          "text": [
            "[[1 2 3]\n",
            " [4 5 6]]\n"
          ]
        }
      ]
    },
    {
      "cell_type": "code",
      "source": [
        "# Apilar los arrays a y b horizontalmente\n",
        "a = np.array([1, 2, 3])\n",
        "b = np.array([4, 5, 6])\n",
        "apilados_horiz = np.hstack((a, b))\n",
        "print(apilados_horiz)\n"
      ],
      "metadata": {
        "colab": {
          "base_uri": "https://localhost:8080/"
        },
        "id": "LRY8iaUF19lq",
        "outputId": "deac99bd-ec2a-4714-c5a3-6f3e4843c60d"
      },
      "execution_count": 19,
      "outputs": [
        {
          "output_type": "stream",
          "name": "stdout",
          "text": [
            "[1 2 3 4 5 6]\n"
          ]
        }
      ]
    },
    {
      "cell_type": "code",
      "source": [
        "# Obtener todos los elementos entre 5 y 10 del array tmp\n",
        "import numpy as np\n",
        "tmp = np.arange(15)\n",
        "elementos = tmp[(tmp >= 5) & (tmp <= 10)]\n",
        "print(elementos)\n"
      ],
      "metadata": {
        "colab": {
          "base_uri": "https://localhost:8080/"
        },
        "id": "qS1FSk8w2Hfj",
        "outputId": "9dffe507-525c-4959-eecb-b34ac3a8f1db"
      },
      "execution_count": 20,
      "outputs": [
        {
          "output_type": "stream",
          "name": "stdout",
          "text": [
            "[ 5  6  7  8  9 10]\n"
          ]
        }
      ]
    },
    {
      "cell_type": "code",
      "source": [
        "# Hacer que una función Python que maneja escalares funcione con arrays numpy\n",
        "import numpy as np\n",
        "\n",
        "def maxx(x, y):\n",
        "    \"\"\"Obtener el máximo de dos elementos\"\"\"\n",
        "    if x >= y:\n",
        "        return x\n",
        "    else:\n",
        "        return y\n",
        "\n",
        "maxx_vectorizado = np.vectorize(maxx)\n",
        "a = np.array([5, 7, 9, 8, 6, 4, 5])\n",
        "b = np.array([6, 3, 4, 8, 9, 7, 1])\n",
        "resultado = maxx_vectorizado(a, b)\n",
        "print(resultado)\n"
      ],
      "metadata": {
        "colab": {
          "base_uri": "https://localhost:8080/"
        },
        "id": "k8hO8V8p2OAy",
        "outputId": "8f923aaf-0d4d-4098-dca8-0225aa8f40d0"
      },
      "execution_count": 21,
      "outputs": [
        {
          "output_type": "stream",
          "name": "stdout",
          "text": [
            "[6 7 9 8 9 7 5]\n"
          ]
        }
      ]
    },
    {
      "cell_type": "code",
      "source": [
        "# Intercambiar las columnas 1 y 2 en el array arr\n",
        "arr = np.arange(9).reshape(3, 3)\n",
        "print(\"Array original:\\n\", arr)\n",
        "arr[:, [1, 2]] = arr[:, [2, 1]]\n",
        "print(\"Array modificado:\\n\", arr)\n"
      ],
      "metadata": {
        "colab": {
          "base_uri": "https://localhost:8080/"
        },
        "id": "9cNEebWn2Xnj",
        "outputId": "526ed329-b710-4b1b-d1c9-a8212ebba105"
      },
      "execution_count": 22,
      "outputs": [
        {
          "output_type": "stream",
          "name": "stdout",
          "text": [
            "Array original:\n",
            " [[0 1 2]\n",
            " [3 4 5]\n",
            " [6 7 8]]\n",
            "Array modificado:\n",
            " [[0 2 1]\n",
            " [3 5 4]\n",
            " [6 8 7]]\n"
          ]
        }
      ]
    },
    {
      "cell_type": "code",
      "source": [
        "# Crear un array 2D de forma 5x3 para contener números decimales aleatorios entre 5 y 10\n",
        "array_2d = 5 + (10 - 5) * np.random.random((5, 3))\n",
        "print(array_2d)\n"
      ],
      "metadata": {
        "colab": {
          "base_uri": "https://localhost:8080/"
        },
        "id": "xYs6phQi2eja",
        "outputId": "20fb5aea-12c2-4250-8ccb-d2b71bf3b9db"
      },
      "execution_count": 23,
      "outputs": [
        {
          "output_type": "stream",
          "name": "stdout",
          "text": [
            "[[9.87596029 6.7709377  6.07476351]\n",
            " [5.29909441 9.67689857 8.79264983]\n",
            " [6.51457678 5.72064053 8.86980045]\n",
            " [6.69895119 8.49196631 9.87454283]\n",
            " [5.07375158 7.54414528 5.22309466]]\n"
          ]
        }
      ]
    }
  ]
}